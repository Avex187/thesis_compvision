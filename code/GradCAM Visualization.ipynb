{
 "cells": [
  {
   "cell_type": "markdown",
   "id": "ba4f9067",
   "metadata": {},
   "source": [
    "## This code focuses on visualizing how the CNN behaves in each layer, allowing us to evaluate the behaviour of the AI in recognizing the building images and its typology\n",
    "\n",
    "#### The GradCAM algorithm were referenced from Selvaraju et al (2016) from his paper in arxiv \n",
    "\n",
    "#### \"Grad-CAM: Visual Explanations from Deep Networks via Gradient-based Localization\"\n",
    "\n",
    "#### https://arxiv.org/abs/1610.02391?context=cs.AI"
   ]
  },
  {
   "cell_type": "code",
   "execution_count": null,
   "id": "a0589098",
   "metadata": {},
   "outputs": [],
   "source": [
    "import numpy as np\n",
    "import pandas as pd\n",
    "import tensorflow as tf\n",
    "from tensorflow import keras\n",
    "from tensorflow.keras.models import Model\n",
    "\n",
    "from skimage.io import imshow, imread, imsave\n",
    "import cv2\n",
    "import os\n",
    "\n",
    "# Display\n",
    "from IPython.display import Image, display\n",
    "import matplotlib.pyplot as plt\n",
    "import matplotlib.cm as cm\n",
    "import matplotlib.image as mpimg\n",
    "\n",
    "import time"
   ]
  },
  {
   "cell_type": "markdown",
   "id": "3dabcb51",
   "metadata": {},
   "source": [
    "#### Loading the specified Model"
   ]
  },
  {
   "cell_type": "code",
   "execution_count": null,
   "id": "d9c6b9a5",
   "metadata": {},
   "outputs": [],
   "source": [
    "model = keras.models.load_model('Deep Learning Models\\Typology Classifier\\Model E - Xception.h5')"
   ]
  },
  {
   "cell_type": "code",
   "execution_count": null,
   "id": "6dc37b9b",
   "metadata": {
    "scrolled": true
   },
   "outputs": [],
   "source": [
    "model.summary()"
   ]
  },
  {
   "cell_type": "code",
   "execution_count": null,
   "id": "e57cbf73",
   "metadata": {},
   "outputs": [],
   "source": [
    "list_conv = []\n",
    "for layer in model.layers:\n",
    "    if (isinstance(layer, keras.layers.Conv2D) or isinstance(layer, keras.layers.SeparableConv2D)):\n",
    "        k = layer.output_shape[1]\n",
    "        if(k != 1):\n",
    "            list_conv.append(layer.name)"
   ]
  },
  {
   "cell_type": "code",
   "execution_count": null,
   "id": "6643399e",
   "metadata": {
    "scrolled": true
   },
   "outputs": [],
   "source": [
    "len(list_conv)"
   ]
  },
  {
   "cell_type": "code",
   "execution_count": null,
   "id": "f8d8530b",
   "metadata": {
    "scrolled": true
   },
   "outputs": [],
   "source": [
    "list_conv"
   ]
  },
  {
   "cell_type": "code",
   "execution_count": null,
   "id": "00315caa",
   "metadata": {},
   "outputs": [],
   "source": [
    "img_size = (256, 256)\n",
    "preprocess_input = keras.applications.xception.preprocess_input\n",
    "decode_predictions = keras.applications.xception.decode_predictions"
   ]
  },
  {
   "cell_type": "code",
   "execution_count": null,
   "id": "3535f23f",
   "metadata": {},
   "outputs": [],
   "source": [
    "def get_img_array(img_path, size):\n",
    "    img = keras.preprocessing.image.load_img(img_path, target_size=size)\n",
    "    array = keras.preprocessing.image.img_to_array(img)\n",
    "    array = np.expand_dims(array, axis=0)\n",
    "    return array\n",
    "\n",
    "def make_gradcam_heatmap(img_array, model, last_conv_layer_name, pred_index=None):\n",
    "    # First, we create a model that maps the input image to the activations\n",
    "    # of the last conv layer as well as the output predictions\n",
    "    grad_model = tf.keras.models.Model(\n",
    "        [model.inputs], [model.get_layer(last_conv_layer_name).output, model.output]\n",
    "    )\n",
    "\n",
    "    # Then, we compute the gradient of the top predicted class for our input image\n",
    "    # with respect to the activations of the last conv layer\n",
    "    with tf.GradientTape() as tape:\n",
    "        last_conv_layer_output, preds = grad_model(img_array)\n",
    "        if pred_index is None:\n",
    "            pred_index = tf.argmax(preds[0])\n",
    "        class_channel = preds[:, pred_index]\n",
    "\n",
    "    # This is the gradient of the output neuron (top predicted or chosen)\n",
    "    # with regard to the output feature map of the last conv layer\n",
    "    grads = tape.gradient(class_channel, last_conv_layer_output)\n",
    "\n",
    "    # This is a vector where each entry is the mean intensity of the gradient\n",
    "    # over a specific feature map channel\n",
    "    pooled_grads = tf.reduce_mean(grads, axis=(0, 1, 2))\n",
    "    \n",
    "    # We multiply each channel in the feature map array\n",
    "    # by \"how important this channel is\" with regard to the top predicted class\n",
    "    # then sum all the channels to obtain the heatmap class activation\n",
    "    last_conv_layer_output = last_conv_layer_output[0]\n",
    "\n",
    "    heatmap = last_conv_layer_output @ pooled_grads[..., tf.newaxis]\n",
    "    heatmap = tf.squeeze(heatmap)\n",
    "\n",
    "    # For visualization purpose, we will also normalize the heatmap between 0 & 1\n",
    "    heatmap = tf.maximum(heatmap, 0) / tf.math.reduce_max(heatmap)\n",
    "    return heatmap.numpy().astype(np.float32)\n",
    "\n",
    "def save_and_display_gradcam(img_path, heatmap, file_name,layer, cam_path = r\"Visualizations/\", alpha=0.8, name_index = 1):\n",
    "    # Load the original image\n",
    "    img = keras.preprocessing.image.load_img(img_path)\n",
    "    img = keras.preprocessing.image.img_to_array(img)\n",
    "\n",
    "    # Rescale heatmap to a range 0-255\n",
    "    heatmap = np.uint8(255 * heatmap)\n",
    "\n",
    "    # Use jet colormap to colorize heatmap\n",
    "    jet = cm.get_cmap(\"jet\")\n",
    "\n",
    "    # Use RGB values of the colormap\n",
    "    jet_colors = jet(np.arange(256))[:, :3]\n",
    "    jet_heatmap = jet_colors[heatmap]\n",
    "\n",
    "    # Create an image with RGB colorized heatmap\n",
    "    jet_heatmap = keras.preprocessing.image.array_to_img(jet_heatmap)\n",
    "    jet_heatmap = jet_heatmap.resize((img.shape[1], img.shape[0]))\n",
    "    jet_heatmap = keras.preprocessing.image.img_to_array(jet_heatmap)\n",
    "\n",
    "    # Superimpose the heatmap on original image\n",
    "    superimposed_img = jet_heatmap * alpha + img\n",
    "    superimposed_img = keras.preprocessing.image.array_to_img(superimposed_img)\n",
    "\n",
    "    # Save the superimposed image\n",
    "    plt.tight_layout()\n",
    "    plt.axis('off')\n",
    "    plt.imshow(superimposed_img)\n",
    "    plt.title('Layer ' + str(name_index) + ' - ' + layer)\n",
    "    saving_path = cam_path+file_name+'.jpg'\n",
    "    plt.savefig(saving_path, transparent=True, bbox_inches='tight')\n",
    "    plt.show()\n",
    "    #superimposed_img.save()\n",
    "\n",
    "    # Display Grad CAM\n",
    "    #display(Image(saving_path))\n",
    "    return superimposed_img"
   ]
  },
  {
   "cell_type": "code",
   "execution_count": null,
   "id": "372231b3",
   "metadata": {},
   "outputs": [],
   "source": [
    "typology_dict = {0 : 'Confined Masonry', 1 : 'RC Infilled Masonry',\n",
    "                2 : 'Timber Structure', 3 : 'Unconfined Masonry'}"
   ]
  },
  {
   "cell_type": "markdown",
   "id": "231a567f",
   "metadata": {},
   "source": [
    "## Mode Display Layer GradCAM"
   ]
  },
  {
   "cell_type": "code",
   "execution_count": null,
   "id": "a3c0b4cb",
   "metadata": {
    "scrolled": true
   },
   "outputs": [],
   "source": [
    "# The local path to our target image\n",
    "img_path = r\"C:/Users/hafid/OneDrive/Desktop/Foto Validasi/38.jpg\""
   ]
  },
  {
   "cell_type": "code",
   "execution_count": null,
   "id": "c4183869",
   "metadata": {
    "scrolled": true
   },
   "outputs": [],
   "source": [
    "# MODE = DISPLAY ALL LAYER\n",
    "\n",
    "# Prepare image\n",
    "img_array = get_img_array(img_path, size=img_size)\n",
    "\n",
    "# Remove last layer's softmax\n",
    "#model.layers[-1].activation = None\n",
    "\n",
    "# Print what the top predicted class is\n",
    "preds = model.predict(img_array/255.)\n",
    "print(preds)\n",
    "print(\"Predicted:\", typology_dict[np.argmax(preds[0])])\n",
    "\n",
    "# Generate class activation heatmap\n",
    "for i,layer in enumerate(list_conv):\n",
    "    heatmap = make_gradcam_heatmap(img_array/255., model, layer)\n",
    "    if i == len(list_conv)-1:\n",
    "        img = save_and_display_gradcam(img_path, heatmap, 'Gambar-' + str(i), layer, name_index = 'Final')\n",
    "    else:\n",
    "        img = save_and_display_gradcam(img_path, heatmap, 'Gambar-' + str(i), layer, name_index = i+1)\n",
    "    #time.sleep(0.1)"
   ]
  },
  {
   "cell_type": "code",
   "execution_count": null,
   "id": "60677d29",
   "metadata": {},
   "outputs": [],
   "source": [
    "# MODE = DISPLAY LAST LAYER\n",
    "# Prepare image\n",
    "img_array = get_img_array(img_path, size=img_size)\n",
    "\n",
    "# Remove last layer's softmax\n",
    "#model.layers[-1].activation = None\n",
    "\n",
    "# Print what the top predicted class is\n",
    "preds = model.predict(img_array)\n",
    "print(preds)\n",
    "print(\"Predicted:\", typology_dict[np.argmax(preds[0])])\n",
    "\n",
    "# Generate class activation heatmap\n",
    "for i,layer in enumerate(list_conv):\n",
    "    if i == len(list_conv)-1:\n",
    "        heatmap = make_gradcam_heatmap(img_array, model, layer)\n",
    "        if i == len(list_conv)-1:\n",
    "            img = save_and_display_gradcam(img_path, heatmap, 'Gambar-' + str(i), layer, name_index = 'Final')\n",
    "        else:\n",
    "            img = save_and_display_gradcam(img_path, heatmap, 'Gambar-' + str(i), layer, name_index = i+1)"
   ]
  },
  {
   "cell_type": "markdown",
   "id": "1b4887f7",
   "metadata": {},
   "source": [
    "## Miscellaneous validation with structural engineering professionals"
   ]
  },
  {
   "cell_type": "code",
   "execution_count": null,
   "id": "f9e1b2a2",
   "metadata": {},
   "outputs": [],
   "source": [
    "folder_image = \"validation_folder_path\""
   ]
  },
  {
   "cell_type": "code",
   "execution_count": null,
   "id": "d682b551",
   "metadata": {
    "scrolled": true
   },
   "outputs": [],
   "source": [
    "filenames = []\n",
    "predictions = []\n",
    "typologies = []\n",
    "df = pd.DataFrame(columns=['Filename', 'Prediction_Array','Tipologi'])\n",
    "for filename in os.listdir(folder_image): \n",
    "    image_path = folder_image + \"/\" + filename\n",
    "    img_array = get_img_array(image_path, size=img_size)\n",
    "    preds = model.predict(img_array)\n",
    "    tipologi = typology_dict[np.argmax(preds[0])]\n",
    "    print(tipologi)\n",
    "    filenames.append(filename)\n",
    "    predictions.append(preds)\n",
    "    typologies.append(tipologi)\n",
    "    \n",
    "df['Filename'] = filenames\n",
    "df['Prediction_Array'] = predictions\n",
    "df['Tipologi'] = typologies"
   ]
  },
  {
   "cell_type": "code",
   "execution_count": null,
   "id": "2a2a1d30",
   "metadata": {},
   "outputs": [],
   "source": [
    "df.to_excel('Tipologi_Validasi.xlsx')"
   ]
  }
 ],
 "metadata": {
  "kernelspec": {
   "display_name": "Python 3 (ipykernel)",
   "language": "python",
   "name": "python3"
  },
  "language_info": {
   "codemirror_mode": {
    "name": "ipython",
    "version": 3
   },
   "file_extension": ".py",
   "mimetype": "text/x-python",
   "name": "python",
   "nbconvert_exporter": "python",
   "pygments_lexer": "ipython3",
   "version": "3.9.7"
  }
 },
 "nbformat": 4,
 "nbformat_minor": 5
}
