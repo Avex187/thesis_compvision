{
 "cells": [
  {
   "cell_type": "code",
   "execution_count": null,
   "id": "b230fb0d",
   "metadata": {},
   "outputs": [],
   "source": [
    "import numpy as np\n",
    "import pandas as pd\n",
    "import folium\n",
    "import os\n",
    "from pathlib import Path\n",
    "from PIL import Image"
   ]
  },
  {
   "cell_type": "code",
   "execution_count": null,
   "id": "f97ae494",
   "metadata": {},
   "outputs": [],
   "source": [
    "import matplotlib.pyplot as plt\n",
    "import matplotlib.image as mpimg\n",
    "\n",
    "import branca.colormap as cm"
   ]
  },
  {
   "cell_type": "markdown",
   "id": "1e98a2d4",
   "metadata": {},
   "source": [
    "## Definisi Variabel Utama pada Pemetaan Kerentanan Bangunan berdasarkan Bernardini dkk (2010)\n",
    "\n",
    "Karena pada studi kasus Bandung dengan skenario gempa M7 dari sesar Lembang, MMI yang dirasakan oleh bangunan di Bandung hanya 8 hingga 9, hanya didefinisikan probabilitas kerusakan dengan MMI 8 dan 9 dalam bentuk *dictionary* pada Python"
   ]
  },
  {
   "cell_type": "code",
   "execution_count": null,
   "id": "6efc954d",
   "metadata": {},
   "outputs": [],
   "source": [
    "#Keterangan Jumlah\n",
    "none = 0\n",
    "nearly_none = 1.5/100\n",
    "few = 9/100\n",
    "many = 35/100\n",
    "most = 74.5/100\n",
    "nearly_all = 97/100\n",
    "alls = 1"
   ]
  },
  {
   "cell_type": "code",
   "execution_count": null,
   "id": "b49508e7",
   "metadata": {},
   "outputs": [],
   "source": [
    "#Dictionary Damage Class A-E, MMI 8\n",
    "damage_A_8 = {\n",
    "    '0' : none,\n",
    "    '1' : 1/3*few,\n",
    "    '2' : 2*few,\n",
    "    '3' : many,\n",
    "    '4' : many,\n",
    "    '5' : few\n",
    "}\n",
    "\n",
    "damage_B_8 = {\n",
    "    '0' : 1/3*few,\n",
    "    '1' : 2*few,\n",
    "    '2' : many,\n",
    "    '3' : many,\n",
    "    '4' : few,\n",
    "    '5' : none\n",
    "}\n",
    "\n",
    "damage_C_8 = {\n",
    "    '0' : 7/3*few,\n",
    "    '1' : many,\n",
    "    '2' : many,\n",
    "    '3' : few,\n",
    "    '4' : none,\n",
    "    '5' : none\n",
    "}\n",
    "\n",
    "damage_D_8 = {\n",
    "    '0' : many + 7/3*few,\n",
    "    '1' : many,\n",
    "    '2' : few,\n",
    "    '3' : none,\n",
    "    '4' : none,\n",
    "    '5' : none\n",
    "}\n",
    "\n",
    "damage_E_8 = {\n",
    "    '0' : alls-few,\n",
    "    '1' : few,\n",
    "    '2' : none,\n",
    "    '3' : none,\n",
    "    '4' : none,\n",
    "    '5' : none\n",
    "}"
   ]
  },
  {
   "cell_type": "code",
   "execution_count": null,
   "id": "c069825b",
   "metadata": {},
   "outputs": [],
   "source": [
    "#Dictionary Damage Class A-E, MMI 9\n",
    "damage_A_9 = {\n",
    "    '0' : none,\n",
    "    '1' : none,\n",
    "    '2' : 1/3*few,\n",
    "    '3' : 3*few,\n",
    "    '4' : many,\n",
    "    '5' : many\n",
    "}\n",
    "\n",
    "damage_B_9 = {\n",
    "    '0' : none,\n",
    "    '1' : 1/3*few,\n",
    "    '2' : 2*few,\n",
    "    '3' : many,\n",
    "    '4' : many,\n",
    "    '5' : few\n",
    "}\n",
    "\n",
    "damage_C_9 = {\n",
    "    '0' : 1/3*few,\n",
    "    '1' : 2*few,\n",
    "    '2' : many,\n",
    "    '3' : many,\n",
    "    '4' : few,\n",
    "    '5' : none\n",
    "}\n",
    "\n",
    "damage_D_9 = {\n",
    "    '0' : 7/3*few,\n",
    "    '1' : many,\n",
    "    '2' : many,\n",
    "    '3' : few,\n",
    "    '4' : none,\n",
    "    '5' : none\n",
    "}\n",
    "\n",
    "damage_E_9 = {\n",
    "    '0' : many + 7/3*few,\n",
    "    '1' : many,\n",
    "    '2' : few,\n",
    "    '3' : none,\n",
    "    '4' : none,\n",
    "    '5' : none\n",
    "}"
   ]
  },
  {
   "cell_type": "markdown",
   "id": "0ae5cb85",
   "metadata": {},
   "source": [
    "## Processing extracted CSV data to Folium Map"
   ]
  },
  {
   "cell_type": "code",
   "execution_count": null,
   "id": "6e378828",
   "metadata": {},
   "outputs": [],
   "source": [
    "df = pd.read_csv('Mapping/Cianjur 271122.csv')\n",
    "df.head()"
   ]
  },
  {
   "cell_type": "code",
   "execution_count": null,
   "id": "cc5829da",
   "metadata": {},
   "outputs": [],
   "source": [
    "def addMarkers(maps,lat,long,label,color):\n",
    "    folium.Circle([lat,long],radius = 60,\n",
    "                 fill = True, tooltip = label,\n",
    "                  color = color).add_to(maps)"
   ]
  },
  {
   "cell_type": "code",
   "execution_count": null,
   "id": "fd069229",
   "metadata": {},
   "outputs": [],
   "source": [
    "#Membuat objek peta\n",
    "cianjur = folium.Map(location=[-6.836374836193813, 107.03588445887296],zoom_start=11, tiles = 'Stamen Terrain')\n",
    "\n",
    "for i in range(len(df)):\n",
    "    if df.iloc[i,2] == 'Confined Masonry':\n",
    "        addMarkers(cianjur,df.iloc[i,3],df.iloc[i,4],\n",
    "              df.iloc[i,2],'red')\n",
    "    elif df.iloc[i,2] == 'RC Infilled Masonry':\n",
    "        addMarkers(cianjur,df.iloc[i,3],df.iloc[i,4],\n",
    "              df.iloc[i,2],'blue')\n",
    "    elif df.iloc[i,2] == 'Timber Structure':\n",
    "        addMarkers(cianjur,df.iloc[i,3],df.iloc[i,4],\n",
    "              df.iloc[i,2],'green')\n",
    "    elif df.iloc[i,2] == 'Unconfined Masonry':\n",
    "        addMarkers(cianjur,df.iloc[i,3],df.iloc[i,4],\n",
    "              df.iloc[i,2],'purple')\n",
    "\n",
    "#Generate Map\n",
    "cianjur.save('Cianjur Typology.html')"
   ]
  },
  {
   "cell_type": "markdown",
   "id": "cfb2aedc",
   "metadata": {},
   "source": [
    "# Processing the Bandung Area Damage Level D0 - D5\n",
    "\n",
    "Considering the nearest fault in Bandung (Lembang), with damage calculation from Bernardini et al (2010)"
   ]
  },
  {
   "cell_type": "code",
   "execution_count": null,
   "id": "7ac278cc",
   "metadata": {},
   "outputs": [],
   "source": [
    "df = pd.read_excel('Mapping/Bandung Damage Map_Random Typology.xlsx', index_col = 0)"
   ]
  },
  {
   "cell_type": "code",
   "execution_count": null,
   "id": "2d7c6b19",
   "metadata": {},
   "outputs": [],
   "source": [
    "kelass = []\n",
    "\n",
    "for i in df.Tipologi:\n",
    "    if(i == 'Confined Masonry'):\n",
    "        kelas =  np.random.choice(['B','C','D'], 1, p=[0.27, 0.64, 0.09])[0]\n",
    "        kelass.append(kelas)\n",
    "    elif(i == 'RC Infilled Masonry'):\n",
    "        kelas =  np.random.choice(['B','C','D'], 1, p=[0.27, 0.64, 0.09])[0]\n",
    "        kelass.append(kelas)\n",
    "    elif(i == 'Timber Structure'):\n",
    "        kelas =  np.random.choice(['B','C','D'], 1, p=[0.09, 0.64, 0.27])[0]\n",
    "        kelass.append(kelas)\n",
    "    elif(i == 'Unconfined Masonry'):\n",
    "        kelas =  np.random.choice(['A','B','C'], 1, p=[0.09, 0.82, 0.09])[0]\n",
    "        kelass.append(kelas)"
   ]
  },
  {
   "cell_type": "code",
   "execution_count": null,
   "id": "02603f78",
   "metadata": {},
   "outputs": [],
   "source": [
    "df['MMI'] = df['MMI'].round(0).astype(int)"
   ]
  },
  {
   "cell_type": "code",
   "execution_count": null,
   "id": "8f6d4ed2",
   "metadata": {},
   "outputs": [],
   "source": [
    "df['Vulnerability_Class'] = kelass\n",
    "df['Vulnerability_MMI'] = df['Vulnerability_Class'] + df['MMI'].astype(str)"
   ]
  },
  {
   "cell_type": "code",
   "execution_count": null,
   "id": "51ec56e2",
   "metadata": {},
   "outputs": [],
   "source": [
    "d0s = []\n",
    "d1s = []\n",
    "d2s = []\n",
    "d3s = []\n",
    "d4s = []\n",
    "d5s = []\n",
    "\n",
    "for i in df['Vulnerability_MMI']:\n",
    "    if(i == 'A8'):\n",
    "        d0s.append(damage_A_8[\"0\"])\n",
    "        d1s.append(damage_A_8[\"1\"])\n",
    "        d2s.append(damage_A_8[\"2\"])\n",
    "        d3s.append(damage_A_8[\"3\"])\n",
    "        d4s.append(damage_A_8[\"4\"])\n",
    "        d5s.append(damage_A_8[\"5\"])\n",
    "    elif(i == 'A9'):\n",
    "        d0s.append(damage_A_9[\"0\"])\n",
    "        d1s.append(damage_A_9[\"1\"])\n",
    "        d2s.append(damage_A_9[\"2\"])\n",
    "        d3s.append(damage_A_9[\"3\"])\n",
    "        d4s.append(damage_A_9[\"4\"])\n",
    "        d5s.append(damage_A_9[\"5\"])\n",
    "    elif(i == 'B8'):\n",
    "        d0s.append(damage_B_8[\"0\"])\n",
    "        d1s.append(damage_B_8[\"1\"])\n",
    "        d2s.append(damage_B_8[\"2\"])\n",
    "        d3s.append(damage_B_8[\"3\"])\n",
    "        d4s.append(damage_B_8[\"4\"])\n",
    "        d5s.append(damage_B_8[\"5\"])\n",
    "    elif(i == 'B9'):\n",
    "        d0s.append(damage_B_9[\"0\"])\n",
    "        d1s.append(damage_B_9[\"1\"])\n",
    "        d2s.append(damage_B_9[\"2\"])\n",
    "        d3s.append(damage_B_9[\"3\"])\n",
    "        d4s.append(damage_B_9[\"4\"])\n",
    "        d5s.append(damage_B_9[\"5\"])\n",
    "    elif(i == 'C8'):\n",
    "        d0s.append(damage_C_8[\"0\"])\n",
    "        d1s.append(damage_C_8[\"1\"])\n",
    "        d2s.append(damage_C_8[\"2\"])\n",
    "        d3s.append(damage_C_8[\"3\"])\n",
    "        d4s.append(damage_C_8[\"4\"])\n",
    "        d5s.append(damage_C_8[\"5\"])\n",
    "    elif(i == 'C9'):\n",
    "        d0s.append(damage_C_9[\"0\"])\n",
    "        d1s.append(damage_C_9[\"1\"])\n",
    "        d2s.append(damage_C_9[\"2\"])\n",
    "        d3s.append(damage_C_9[\"3\"])\n",
    "        d4s.append(damage_C_9[\"4\"])\n",
    "        d5s.append(damage_C_9[\"5\"])\n",
    "    elif(i == 'D8'):\n",
    "        d0s.append(damage_D_8[\"0\"])\n",
    "        d1s.append(damage_D_8[\"1\"])\n",
    "        d2s.append(damage_D_8[\"2\"])\n",
    "        d3s.append(damage_D_8[\"3\"])\n",
    "        d4s.append(damage_D_8[\"4\"])\n",
    "        d5s.append(damage_D_8[\"5\"])\n",
    "    elif(i == 'D9'):\n",
    "        d0s.append(damage_D_9[\"0\"])\n",
    "        d1s.append(damage_D_9[\"1\"])\n",
    "        d2s.append(damage_D_9[\"2\"])\n",
    "        d3s.append(damage_D_9[\"3\"])\n",
    "        d4s.append(damage_D_9[\"4\"])\n",
    "        d5s.append(damage_D_9[\"5\"])\n",
    "    elif(i == 'E8'):\n",
    "        d0s.append(damage_E_8[\"0\"])\n",
    "        d1s.append(damage_E_8[\"1\"])\n",
    "        d2s.append(damage_E_8[\"2\"])\n",
    "        d3s.append(damage_E_8[\"3\"])\n",
    "        d4s.append(damage_E_8[\"4\"])\n",
    "        d5s.append(damage_E_8[\"5\"])\n",
    "    elif(i == 'E9'):\n",
    "        d0s.append(damage_E_9[\"0\"])\n",
    "        d1s.append(damage_E_9[\"1\"])\n",
    "        d2s.append(damage_E_9[\"2\"])\n",
    "        d3s.append(damage_E_9[\"3\"])\n",
    "        d4s.append(damage_E_9[\"4\"])\n",
    "        d5s.append(damage_E_9[\"5\"])"
   ]
  },
  {
   "cell_type": "code",
   "execution_count": null,
   "id": "e19d66dd",
   "metadata": {},
   "outputs": [],
   "source": [
    "df['D0'] = d0s\n",
    "df['D1'] = d1s\n",
    "df['D2'] = d2s\n",
    "df['D3'] = d3s\n",
    "df['D4'] = d4s\n",
    "df['D5'] = d5s"
   ]
  },
  {
   "cell_type": "code",
   "execution_count": null,
   "id": "2b846046",
   "metadata": {},
   "outputs": [],
   "source": [
    "df.to_excel('Mapping/Bandung Damage Map_Random Typology Paper 2023.xlsx')"
   ]
  },
  {
   "cell_type": "markdown",
   "id": "63eead6e",
   "metadata": {},
   "source": [
    "## Mapping Building Vulnerabilities & Damage in Bandung with specified damage levels from D0 to D5"
   ]
  },
  {
   "cell_type": "code",
   "execution_count": null,
   "id": "7c2fbf02",
   "metadata": {},
   "outputs": [],
   "source": [
    "colormap_D0 = cm.LinearColormap(colors=['green','yellow','orange','red'], index=[0, 0.33, 0.66,1],vmin=0,vmax=1)\n",
    "colormap_D1D5 = cm.LinearColormap(colors=['green','yellow','orange','red'], index=[0, 0.166, 0.33, 0.5],vmin=0,vmax=0.5)"
   ]
  },
  {
   "cell_type": "code",
   "execution_count": null,
   "id": "f644295e",
   "metadata": {},
   "outputs": [],
   "source": [
    "df = pd.read_excel('Mapping/Cianjur Damage Map_Random Typology nonrev.xlsx')"
   ]
  },
  {
   "cell_type": "code",
   "execution_count": null,
   "id": "ac225bcb",
   "metadata": {},
   "outputs": [],
   "source": [
    "cianjur = folium.Map(location=[-6.836374836193813, 107.03588445887296],zoom_start=11, tiles = 'Stamen Terrain')\n",
    "\n",
    "lat = list(df.lat)\n",
    "lon = list(df.lon)\n",
    "damage = list(df['D5'])"
   ]
  },
  {
   "cell_type": "code",
   "execution_count": null,
   "id": "f8996e19",
   "metadata": {},
   "outputs": [],
   "source": [
    "for loc, dmg in zip(zip(lat, lon), damage):\n",
    "    folium.Circle(\n",
    "        location=loc,\n",
    "        radius=50,\n",
    "        fill=True,\n",
    "        color=colormap_D1D5(dmg),\n",
    "        #fill_opacity=0.7\n",
    "    ).add_to(cianjur)\n",
    "    \n",
    "cianjur.add_child(colormap_D1D5)"
   ]
  },
  {
   "cell_type": "code",
   "execution_count": null,
   "id": "c144faea",
   "metadata": {},
   "outputs": [],
   "source": [
    "cianjur.save('Mapping/Cianjur - No Revision/Cianjur_Damage_5.html')"
   ]
  }
 ],
 "metadata": {
  "kernelspec": {
   "display_name": "Python 3 (ipykernel)",
   "language": "python",
   "name": "python3"
  },
  "language_info": {
   "codemirror_mode": {
    "name": "ipython",
    "version": 3
   },
   "file_extension": ".py",
   "mimetype": "text/x-python",
   "name": "python",
   "nbconvert_exporter": "python",
   "pygments_lexer": "ipython3",
   "version": "3.9.18"
  }
 },
 "nbformat": 4,
 "nbformat_minor": 5
}
