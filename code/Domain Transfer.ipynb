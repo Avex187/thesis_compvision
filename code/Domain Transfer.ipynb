{
 "cells": [
  {
   "cell_type": "code",
   "execution_count": null,
   "id": "8e3e80c0",
   "metadata": {},
   "outputs": [],
   "source": [
    "import sys\n",
    "import gc\n",
    "import os, shutil\n",
    "import tempfile\n",
    "from os import listdir\n",
    "import clr_callback\n",
    "\n",
    "import numpy as np\n",
    "import pandas as pd\n",
    "\n",
    "import matplotlib\n",
    "import matplotlib.pyplot as plt\n",
    "import matplotlib.image as mpimg\n",
    "from matplotlib.pyplot import imshow\n",
    "import seaborn as sns\n",
    "from PIL import Image\n",
    "\n",
    "from keras import backend as K\n",
    "\n",
    "import tensorflow as tf\n",
    "from tensorflow.keras import models\n",
    "from tensorflow.keras.preprocessing import image\n",
    "from tensorflow.keras import mixed_precision, regularizers\n",
    "from tensorflow.keras.metrics import top_k_categorical_accuracy\n",
    "from tensorflow.keras.models import Sequential, Model\n",
    "from tensorflow.keras.optimizers import Adam\n",
    "from tensorflow.keras.losses import CategoricalCrossentropy\n",
    "\n",
    "from sklearn.metrics import classification_report,confusion_matrix, matthews_corrcoef\n",
    "from sklearn.utils.class_weight import compute_class_weight"
   ]
  },
  {
   "cell_type": "code",
   "execution_count": null,
   "id": "e0a6844d",
   "metadata": {},
   "outputs": [],
   "source": [
    "plt.set_cmap('gray')\n",
    "pd.set_option('precision', 3)"
   ]
  },
  {
   "cell_type": "code",
   "execution_count": null,
   "id": "321e9b1e",
   "metadata": {},
   "outputs": [],
   "source": [
    "for gpu in tf.config.list_physical_devices(\"GPU\"):\n",
    "    tf.config.experimental.set_memory_growth(gpu, True)"
   ]
  },
  {
   "cell_type": "markdown",
   "id": "2fea3250",
   "metadata": {},
   "source": [
    "# Utility Functions"
   ]
  },
  {
   "cell_type": "code",
   "execution_count": null,
   "id": "386fe2e1",
   "metadata": {},
   "outputs": [],
   "source": [
    "def create_datagen(train_path, val_path, test_path, target_size = (256,256), batch_size = 16, efficient = False):\n",
    "    if efficient:\n",
    "        train_datagen = image.ImageDataGenerator(\n",
    "            rescale = 1.,\n",
    "        )\n",
    "    else:\n",
    "        train_datagen = image.ImageDataGenerator(\n",
    "            rescale = 1./255,\n",
    "        )\n",
    "\n",
    "    train_generator = train_datagen.flow_from_directory(\n",
    "        train_path,\n",
    "        target_size=target_size,\n",
    "        batch_size= batch_size,\n",
    "        color_mode=\"rgb\",\n",
    "        class_mode='categorical',\n",
    "        shuffle = True\n",
    "    )\n",
    "\n",
    "    validation_generator = train_datagen.flow_from_directory(\n",
    "        val_path,\n",
    "        target_size=target_size,\n",
    "        batch_size= batch_size,\n",
    "        color_mode=\"rgb\",\n",
    "        class_mode='categorical',\n",
    "        shuffle = False\n",
    "    )\n",
    "    \n",
    "    test_generator = train_datagen.flow_from_directory(\n",
    "        test_path,\n",
    "        target_size=target_size,\n",
    "        batch_size= batch_size,\n",
    "        color_mode=\"rgb\",\n",
    "        class_mode='categorical',\n",
    "        shuffle = False\n",
    "    )\n",
    "    return train_generator, validation_generator, test_generator"
   ]
  },
  {
   "cell_type": "code",
   "execution_count": null,
   "id": "c1166690",
   "metadata": {},
   "outputs": [],
   "source": [
    "plt.rcParams[\"figure.figsize\"] = (9,12)\n",
    "\n",
    "def plot_model_history(model, path):\n",
    "    fig, (ax1, ax2) = plt.subplots(2)\n",
    "    ax1.plot(model.history['accuracy'])\n",
    "    ax1.plot(model.history['val_accuracy'])\n",
    "    ax1.set_title('Model Accuracy')\n",
    "    ax1.set_ylabel('Accuracy')\n",
    "    ax1.set_xlabel('Epoch')\n",
    "    ax1.legend(['Train', 'Val'], loc='upper left')\n",
    "    \n",
    "    ax2.plot(model.history['loss'], 'b')\n",
    "    ax2.plot(model.history['val_loss'], 'r')\n",
    "    ax2.set_title('Training and Validation loss')\n",
    "    ax2.set_ylabel('Loss')\n",
    "    ax2.set_xlabel('Epoch')\n",
    "    ax2.legend(['Train Loss', 'Val Loss'], loc='upper left')\n",
    "    fig.savefig(path, bbox_inches = 'tight')\n",
    "\n",
    "    plt.show()"
   ]
  },
  {
   "cell_type": "code",
   "execution_count": null,
   "id": "4213b5b0",
   "metadata": {},
   "outputs": [],
   "source": [
    "def plot_confusion_matrix(df_confusion, path, title='Confusion Matrix'):\n",
    "    print(df_confusion)\n",
    "    plt.figure(figsize=(8, 6))\n",
    "    plt.title(title)\n",
    "\n",
    "    heatmaps = sns.heatmap(df_confusion, annot=True, cmap = \"viridis\",\n",
    "               vmin = 0, vmax = 1)\n",
    "    plt.setp(heatmaps.get_xticklabels(), rotation=30)\n",
    "    plt.setp(heatmaps.get_yticklabels(), rotation=30)\n",
    "    plt.tight_layout()\n",
    "    plt.savefig(path)\n",
    "    plt.show()"
   ]
  },
  {
   "cell_type": "code",
   "execution_count": null,
   "id": "6bf4b64c",
   "metadata": {},
   "outputs": [],
   "source": [
    "def report_classifier(model,generator, testing_size, batch_size, evaluate = False, efficient_net = False, \n",
    "                      path_report = None):\n",
    "    Y_pred = model.predict(generator)\n",
    "    y_pred = np.argmax(Y_pred, axis=1)\n",
    "    k = matthews_corrcoef(generator.classes, y_pred)\n",
    "    print(f'Matthew Correlation Coefficient : {k:.2f}')\n",
    "    \n",
    "    df_confusion_ori = pd.crosstab(generator.classes, y_pred, \n",
    "                               rownames=['Actual'], colnames=['Predicted'], margins=True)\n",
    "    df_confusion = pd.crosstab(generator.classes, y_pred, \n",
    "                               rownames=['Actual'], colnames=['Predicted'], margins=True, normalize = \"index\")\n",
    "    df_confusion.rename(columns={0: 'Confined Masonry', 1 : 'RC Infilled', 2 : 'Timber', 3 : 'Unconfined'}, \n",
    "              index={0: 'Confined Masonry', 1 : 'RC Infilled', 2 : 'Timber', 3 : 'Unconfined'}, inplace = True)\n",
    "    plot_confusion_matrix(df_confusion[:4][:], path = path_report)\n",
    "    \n",
    "    print('Classification Report')\n",
    "    target_names = ['Confined', 'RC', 'Timber', 'Unconfined']\n",
    "    print(classification_report(generator.classes, y_pred, target_names=target_names))\n",
    "    \n",
    "    if evaluate:\n",
    "        tipologi = {0 : 'Confined', 1 : 'RC Infilled', 2 : 'Timber', 3 : 'Unconfined'}\n",
    "        generator.reset()\n",
    "        print_index = 0\n",
    "        showimg = 1\n",
    "        plt.figure(figsize=(16,8))\n",
    "        while(print_index < len(y_pred)):\n",
    "            x_batch, y_batch = next(generator)\n",
    "            for k, (img, lbl) in enumerate(zip(x_batch, y_batch)):\n",
    "                if(showimg == 4):\n",
    "                    plt.figure(figsize=(16,8))\n",
    "                    showimg = 1\n",
    "                if (y_pred[print_index] != np.argmax(lbl)):\n",
    "                    if efficient_net:\n",
    "                        plt.subplot(1, 4, showimg)#4 rows with 8 images.\n",
    "                        showimg += 1\n",
    "                        plt.title('Prediksi :' + str(tipologi[y_pred[print_index]]) + ', Aktual :' + str(tipologi[np.argmax(lbl)]), \n",
    "                                  fontsize = 9)\n",
    "                        plt.axis('off')\n",
    "                        plt.tight_layout()\n",
    "                        plt.imshow(img/255.)\n",
    "                    else:\n",
    "                        plt.subplot(1, 4, showimg)#4 rows with 8 images.\n",
    "                        showimg += 1\n",
    "                        plt.title('Prediksi :' + str(y_pred[print_index]) + ', Aktual :' + str(np.argmax(lbl)), \n",
    "                                  fontsize = 9)\n",
    "                        plt.axis('off')\n",
    "                        plt.tight_layout()\n",
    "                        plt.imshow(img)\n",
    "                print_index += 1\n",
    "    return"
   ]
  },
  {
   "cell_type": "markdown",
   "id": "ab3c8087",
   "metadata": {},
   "source": [
    "# Domain Transfer Test"
   ]
  },
  {
   "cell_type": "code",
   "execution_count": null,
   "id": "ee4fdc50",
   "metadata": {},
   "outputs": [],
   "source": [
    "model = tf.keras.models.load_model('Deep Learning Models/Typology Classifier/Model RSL - Mobile - D2 - 16.h5')"
   ]
  },
  {
   "cell_type": "code",
   "execution_count": null,
   "id": "01f02f2d",
   "metadata": {},
   "outputs": [],
   "source": [
    "train_path = 'train_path'\n",
    "val_path = 'val_path'\n",
    "test_path = 'test_path'"
   ]
  },
  {
   "cell_type": "code",
   "execution_count": null,
   "id": "c90fb78f",
   "metadata": {},
   "outputs": [],
   "source": [
    "train_generator, validation_generator, test_generator = create_datagen(train_path, val_path, test_path, \n",
    "                                                                       batch_size = 16, efficient = True)"
   ]
  },
  {
   "cell_type": "code",
   "execution_count": null,
   "id": "b80780f4",
   "metadata": {
    "scrolled": false
   },
   "outputs": [],
   "source": [
    "report_classifier(model,test_generator,202,16,evaluate = True, efficient_net = True, \n",
    "                 path_report = 'Misc/temp Graph/'+'DT Model RS-L to HP-L - D3 - '+' Report.jpg')"
   ]
  }
 ],
 "metadata": {
  "kernelspec": {
   "display_name": "Python 3 (ipykernel)",
   "language": "python",
   "name": "python3"
  },
  "language_info": {
   "codemirror_mode": {
    "name": "ipython",
    "version": 3
   },
   "file_extension": ".py",
   "mimetype": "text/x-python",
   "name": "python",
   "nbconvert_exporter": "python",
   "pygments_lexer": "ipython3",
   "version": "3.9.7"
  }
 },
 "nbformat": 4,
 "nbformat_minor": 5
}
