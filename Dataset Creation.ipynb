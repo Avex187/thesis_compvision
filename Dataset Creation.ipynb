{
 "cells": [
  {
   "cell_type": "code",
   "execution_count": null,
   "id": "4b499308",
   "metadata": {},
   "outputs": [],
   "source": [
    "#Directory\n",
    "import sys\n",
    "import shutil\n",
    "import os\n",
    "import random\n",
    "import splitfolders\n",
    "\n",
    "#Numerical Methods\n",
    "import numpy as np\n",
    "\n",
    "#Image Manipulation\n",
    "import cv2\n",
    "import imgaug.augmenters as iaa"
   ]
  },
  {
   "cell_type": "markdown",
   "id": "9166927f",
   "metadata": {},
   "source": [
    "# Preparing Dataset Train-Val-Test Split (70 - 15 - 15)"
   ]
  },
  {
   "cell_type": "code",
   "execution_count": null,
   "id": "c654a486",
   "metadata": {},
   "outputs": [],
   "source": [
    "real_dataset_list = ['Model A', 'Model B', 'Model C', 'Model D', 'Model E']"
   ]
  },
  {
   "cell_type": "code",
   "execution_count": null,
   "id": "0a9a75d1",
   "metadata": {},
   "outputs": [],
   "source": [
    "original_dataset_list = os.listdir('Categorized Datasets/Original Data/')"
   ]
  },
  {
   "cell_type": "code",
   "execution_count": null,
   "id": "82280441",
   "metadata": {},
   "outputs": [],
   "source": [
    "original_dataset_list"
   ]
  },
  {
   "cell_type": "code",
   "execution_count": null,
   "id": "fc43216e",
   "metadata": {},
   "outputs": [],
   "source": [
    "dataset_main_folder = 'Categorized Datasets/Dataset/Distribution 3/'\n",
    "original_main_folder = 'Categorized Datasets/Original Data/'"
   ]
  },
  {
   "cell_type": "code",
   "execution_count": null,
   "id": "3148b08e",
   "metadata": {},
   "outputs": [],
   "source": [
    "#Menghapus folder dataset yang lama\n",
    "for folder in os.listdir(dataset_main_folder):\n",
    "    model_folder = os.path.join(dataset_main_folder, folder)\n",
    "    shutil.rmtree(model_folder)"
   ]
  },
  {
   "cell_type": "code",
   "execution_count": null,
   "id": "57e9c553",
   "metadata": {},
   "outputs": [],
   "source": [
    "#Membuat folder dataset baru di lokasi yang tepat sama dengan sebelumnya\n",
    "for folder in real_dataset_list:\n",
    "    model_folder = os.path.join(dataset_main_folder, folder)\n",
    "    os.mkdir(model_folder)"
   ]
  },
  {
   "cell_type": "markdown",
   "id": "1d7072f5",
   "metadata": {},
   "source": [
    "### Split Train-Val-Test for Model F"
   ]
  },
  {
   "cell_type": "code",
   "execution_count": null,
   "id": "0f7d14e8",
   "metadata": {},
   "outputs": [],
   "source": [
    "splitfolders.ratio(r'Categorized Datasets/Original Data/(Model F) Combined Datasets/', \n",
    "                   output=r'Categorized Datasets/Dataset/Model F/', seed=42, \n",
    "                   ratio=(0.7, 0.15, 0.15), group_prefix=None, move=False)"
   ]
  },
  {
   "cell_type": "code",
   "execution_count": null,
   "id": "46e0168e",
   "metadata": {
    "scrolled": true
   },
   "outputs": [],
   "source": [
    "#Applying train-val-test di direktori\n",
    "for i,folder in enumerate(os.listdir(dataset_main_folder)):\n",
    "    origin_model_folder = os.path.join(original_main_folder, original_dataset_list[i]) + r'/'\n",
    "    dataset_model_folder = os.path.join(dataset_main_folder, real_dataset_list[i]) + r'/'\n",
    "    print(origin_model_folder)\n",
    "    print(dataset_model_folder)\n",
    "    splitfolders.ratio(origin_model_folder, output=dataset_model_folder, seed=3, \n",
    "                   ratio=(0.7, 0.15, 0.15), group_prefix=None, move=False)"
   ]
  },
  {
   "cell_type": "markdown",
   "id": "b292d664",
   "metadata": {},
   "source": [
    "# Resizing Augmentation Utility"
   ]
  },
  {
   "cell_type": "code",
   "execution_count": null,
   "id": "7348a5c8",
   "metadata": {},
   "outputs": [],
   "source": [
    "resize_from_width = iaa.Sequential([\n",
    "        iaa.Resize({\"height\": \"keep-aspect-ratio\", \"width\": 256}),\n",
    "        iaa.CenterCropToFixedSize(height=256, width=256),\n",
    "    ],\n",
    "    random_order=False # apply the augmentations in random order\n",
    ")\n",
    "\n",
    "resize_from_height = iaa.Sequential([\n",
    "        iaa.Resize({\"height\": 256, \"width\": \"keep-aspect-ratio\"}),\n",
    "        iaa.CenterCropToFixedSize(height=256, width=256),\n",
    "    ],\n",
    "    random_order=False # apply the augmentations in random order\n",
    ")"
   ]
  },
  {
   "cell_type": "markdown",
   "id": "20398a78",
   "metadata": {},
   "source": [
    "# Fungsi Utilitas Move-Copy-Misc pada Operating System (Windows)"
   ]
  },
  {
   "cell_type": "code",
   "execution_count": null,
   "id": "62966764",
   "metadata": {},
   "outputs": [],
   "source": [
    "def move_file_fromfolder(source, destination):\n",
    "    allfiles = os.listdir(source)\n",
    "    for f in allfiles:\n",
    "        shutil.move(source + f, destination + f)"
   ]
  },
  {
   "cell_type": "code",
   "execution_count": null,
   "id": "6ca6351f",
   "metadata": {},
   "outputs": [],
   "source": [
    "def copy_file_fromfolder(source, destination):\n",
    "    allfiles = os.listdir(source)\n",
    "    for f in allfiles:\n",
    "        shutil.copy(source + f, destination + f)"
   ]
  },
  {
   "cell_type": "code",
   "execution_count": null,
   "id": "42e5087a",
   "metadata": {},
   "outputs": [],
   "source": [
    "def resize_folder(source_dir, target_dir):\n",
    "    for i, file in enumerate(os.listdir(source_dir)):\n",
    "        path = source_dir + '/' + file\n",
    "        img = cv2.imread(path)\n",
    "        h, w = img.shape[0], img.shape[1]\n",
    "        if((h != 256) | (w != 256)):\n",
    "            if(h > w):\n",
    "                images_resized = np.array(resize_from_width.augment_image(img))\n",
    "            else:\n",
    "                images_resized = np.array(resize_from_height.augment_image(img))\n",
    "            #im = Image.fromarray(images_aug)\n",
    "            target_filename = os.path.join(target_dir,file)\n",
    "            cv2.imwrite(target_filename, images_resized)\n",
    "    print('Resizing process for folder ' + source_dir.split('/')[5] + ' done!')"
   ]
  },
  {
   "cell_type": "code",
   "execution_count": null,
   "id": "12d9d18b",
   "metadata": {},
   "outputs": [],
   "source": [
    "def sample_test(source_dir, dest_dir, count, mode = \"copy\"):\n",
    "    image_list = []\n",
    "    for i, file in enumerate(os.listdir(source_dir)):\n",
    "        image_list.append(source_dir + '/' + file)\n",
    "    image_count = len(image_list)\n",
    " \n",
    "    test_sample = random.sample(image_list, count)\n",
    "    for file in test_sample:\n",
    "        if(mode == \"copy\"):\n",
    "            shutil.copy(file, dest_dir)\n",
    "        elif(mode == \"cut\"):\n",
    "            shutil.move(file, dest_dir)"
   ]
  },
  {
   "cell_type": "code",
   "execution_count": null,
   "id": "3d93d9ff",
   "metadata": {},
   "outputs": [],
   "source": [
    "tipologi = ['Confined','RC Infilled','Timber','Unconfined']\n",
    "folder = [r'Categorized Datasets/Original Data/(Model A) High-Quality wo Aug/',\n",
    "          r'Categorized Datasets/Original Data/(Model C) Hand-Picked wo Aug - large/',\n",
    "          r'Categorized Datasets/Original Data/(Model E) Random-Sampled wo Aug - large/']"
   ]
  },
  {
   "cell_type": "code",
   "execution_count": null,
   "id": "49d01f35",
   "metadata": {},
   "outputs": [],
   "source": [
    "for f in folder:\n",
    "    for t in tipologi:\n",
    "        source = os.path.join(f,t) + r'/'\n",
    "        print(source)\n",
    "        destination = r'Categorized Datasets/Original Data/(Model F) Combined Datasets/' + t + r'/'\n",
    "        print(destination)\n",
    "        copy_file_fromfolder(source, destination)"
   ]
  },
  {
   "cell_type": "code",
   "execution_count": null,
   "id": "9d07ff3d",
   "metadata": {},
   "outputs": [],
   "source": [
    "copy_file_fromfolder(r'Categorized Datasets/Ori + Augmented Data/(Model A) OriAugment_High-Quality/Confined/',\n",
    "                     r'Categorized Datasets/Ori + Augmented Data/(Model F) OriAugment ALL DATA/Confined/',\n",
    "                     )"
   ]
  },
  {
   "cell_type": "markdown",
   "id": "e3c32e72",
   "metadata": {},
   "source": [
    "# Sample Test"
   ]
  },
  {
   "cell_type": "code",
   "execution_count": null,
   "id": "785e5fe1",
   "metadata": {},
   "outputs": [],
   "source": [
    "# Model C ke Model B\n",
    "sample_test(r'Categorized Datasets\\Original Data\\(Model C) Hand-Picked wo Aug - large\\Confined',\n",
    "           r'Categorized Datasets\\Original Data\\(Model B) Hand-Picked wo Aug - small\\Confined', 415, \"copy\")\n",
    "\n",
    "sample_test(r'Categorized Datasets\\Original Data\\(Model C) Hand-Picked wo Aug - large\\RC Infilled',\n",
    "           r'Categorized Datasets\\Original Data\\(Model B) Hand-Picked wo Aug - small\\RC Infilled', 152, \"copy\")\n",
    "\n",
    "sample_test(r'Categorized Datasets\\Original Data\\(Model C) Hand-Picked wo Aug - large\\Timber',\n",
    "           r'Categorized Datasets\\Original Data\\(Model B) Hand-Picked wo Aug - small\\Timber', 80, \"copy\")\n",
    "\n",
    "sample_test(r'Categorized Datasets\\Original Data\\(Model C) Hand-Picked wo Aug - large\\Unconfined',\n",
    "           r'Categorized Datasets\\Original Data\\(Model B) Hand-Picked wo Aug - small\\Unconfined', 38, \"copy\")"
   ]
  },
  {
   "cell_type": "code",
   "execution_count": null,
   "id": "1f8449bf",
   "metadata": {},
   "outputs": [],
   "source": [
    "# Model E ke Model D\n",
    "sample_test(r'Categorized Datasets\\Original Data\\(Model E) Random-Sampled wo Aug - large\\Confined',\n",
    "           r'Categorized Datasets\\Original Data\\(Model D) Random-Sampled wo Aug - small\\Confined', 415, \"copy\")\n",
    "\n",
    "sample_test(r'Categorized Datasets\\Original Data\\(Model E) Random-Sampled wo Aug - large\\RC Infilled',\n",
    "           r'Categorized Datasets\\Original Data\\(Model D) Random-Sampled wo Aug - small\\RC Infilled', 152, \"copy\")\n",
    "\n",
    "sample_test(r'Categorized Datasets\\Original Data\\(Model E) Random-Sampled wo Aug - large\\Timber',\n",
    "           r'Categorized Datasets\\Original Data\\(Model D) Random-Sampled wo Aug - small\\Timber', 80, \"copy\")\n",
    "\n",
    "sample_test(r'Categorized Datasets\\Original Data\\(Model E) Random-Sampled wo Aug - large\\Unconfined',\n",
    "           r'Categorized Datasets\\Original Data\\(Model D) Random-Sampled wo Aug - small\\Unconfined', 38, \"copy\")"
   ]
  },
  {
   "cell_type": "code",
   "execution_count": null,
   "id": "b2dd06d4",
   "metadata": {},
   "outputs": [],
   "source": []
  }
 ],
 "metadata": {
  "kernelspec": {
   "display_name": "Python 3 (ipykernel)",
   "language": "python",
   "name": "python3"
  },
  "language_info": {
   "codemirror_mode": {
    "name": "ipython",
    "version": 3
   },
   "file_extension": ".py",
   "mimetype": "text/x-python",
   "name": "python",
   "nbconvert_exporter": "python",
   "pygments_lexer": "ipython3",
   "version": "3.9.7"
  }
 },
 "nbformat": 4,
 "nbformat_minor": 5
}
